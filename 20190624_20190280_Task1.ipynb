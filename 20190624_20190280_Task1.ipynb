{
  "cells": [
    {
      "cell_type": "markdown",
      "source": [
        "**Even Problem**"
      ],
      "metadata": {
        "id": "C8GhtWINpvKn"
      }
    },
    {
      "cell_type": "markdown",
      "metadata": {
        "id": "9hlByCvlKnjf"
      },
      "source": [
        "### NFA Circuit:"
      ]
    },
    {
      "cell_type": "code",
      "execution_count": 72,
      "metadata": {
        "id": "36Dxdl7uKnji"
      },
      "outputs": [],
      "source": [
        "# implement of NFA\n",
        "NFA_circuit = {\n",
        "    \"q0\":{\"0\":[\"q0\"],\"1\":[\"q1\"]},\n",
        "    \"q1\":{\"0\":[\"q0\"],\"1\":[\"q1\",\"q2\"]},\n",
        "    \"q2\":{\"0\":[\"q0\",\"q1\",\"q3\"],\"1\":[\"q2\"]},\n",
        "    \"q3\":{\"0\":[\"q0\"],\"1\":[\"q1\",\"q4\"]},\n",
        "    \"q4\":{\"0\":[\"q3\"],\"1\":[\"q5\"]},\n",
        "    \"q5\":{}\n",
        "     #q0 is the start state\n",
        "    #q6 is the final state\n",
        "}"
      ]
    },
    {
      "cell_type": "code",
      "execution_count": 73,
      "metadata": {
        "id": "N73umQ_iKnjm"
      },
      "outputs": [],
      "source": [
        "def remove_items(test_list, item):\n",
        "    \"\"\"\n",
        "    function to remove all instance of \"item\" from the list\n",
        "    \"\"\"\n",
        "    # using list comprehension to perform the task\n",
        "    res = [i for i in test_list if i != item]\n",
        " \n",
        "    return res"
      ]
    },
    {
      "cell_type": "code",
      "execution_count": 74,
      "metadata": {
        "id": "oOUTdmOpKnjo"
      },
      "outputs": [],
      "source": [
        "def NFA_occurrences(input,nfa_graph):\n",
        "      # This function take the input from the user and go throw the graph to \n",
        "      #cuclue the number of occurrences of (11011) in this input\n",
        "\n",
        "    occurrences = 0\n",
        "    states = list(NFA_circuit.keys())\n",
        "\n",
        "    #Initial State\n",
        "    current_states = [states[0]]\n",
        "\n",
        "    #This for loop get elments one by one from the input\n",
        "    for symbol in input:\n",
        "\n",
        "        next_states = []\n",
        "        \n",
        "        #This loop go from this stat to the next\n",
        "        for state in current_states:\n",
        "       \n",
        "            if symbol == '0':\n",
        "                next_states.append(NFA_circuit[state][\"0\"])\n",
        "            elif symbol == '1':\n",
        "                next_states.append(NFA_circuit[state][\"1\"])\n",
        "\n",
        "        next_states = [item for sublist in next_states for item in sublist]\n",
        "\n",
        "        # copy the next states to make it the current states\n",
        "        current_states = next_states.copy()\n",
        "\n",
        "        # if we get the final state then we add 1 to occurrences\n",
        "        if \"q5\" in current_states:\n",
        "            occurrences += 1\n",
        "\n",
        "            # remove the final state from the current state\n",
        "            current_states=remove_items(current_states, 'q5')\n",
        "\n",
        "    return occurrences\n"
      ]
    },
    {
      "cell_type": "code",
      "execution_count": 75,
      "metadata": {
        "colab": {
          "base_uri": "https://localhost:8080/"
        },
        "id": "9I3QxnUxKnjq",
        "outputId": "f1dff8fa-0e6d-4c2c-8d50-004083d3701e"
      },
      "outputs": [
        {
          "output_type": "stream",
          "name": "stdout",
          "text": [
            "Test1 \n",
            "#Count =  1\n",
            "***********************\n",
            "Test2\n",
            "#Count =  0\n",
            "***********************\n",
            "Test3  \n",
            "#Count =  3\n",
            "***********************\n",
            "Test4 \n",
            "#Count =  2\n",
            "***********************\n"
          ]
        }
      ],
      "source": [
        "print(\"Test1 \")\n",
        "print(\"#Count = \",NFA_occurrences('110111',NFA_circuit))\n",
        "print(\"***********************\")\n",
        "print(\"Test2\")\n",
        "print(\"#Count = \",NFA_occurrences('11111',NFA_circuit))\n",
        "print(\"***********************\")\n",
        "print(\"Test3  \")\n",
        "print(\"#Count = \",NFA_occurrences('11011011011',NFA_circuit))\n",
        "print(\"***********************\")\n",
        "print(\"Test4 \")\n",
        "print(\"#Count = \",NFA_occurrences('1110111011',NFA_circuit))\n",
        "print(\"***********************\")\n"
      ]
    },
    {
      "cell_type": "markdown",
      "metadata": {
        "id": "Ocz2KVoyKnjt"
      },
      "source": [
        " DFA Circuit:"
      ]
    },
    {
      "cell_type": "code",
      "execution_count": 76,
      "metadata": {
        "id": "YcNvLX5EKnjx"
      },
      "outputs": [],
      "source": [
        "# implement the graph using  nested dictionary\n",
        "DFA_circuit = {\n",
        "    \"q0\":{\"0\":[\"q0\"],\"1\":[\"q1\"]},\n",
        "    \"q1\":{\"0\":[\"q0\"],\"1\":[\"q2\"]},\n",
        "    \"q2\":{\"0\":[\"q3\"],\"1\":[\"q2\"]},\n",
        "    \"q3\":{\"0\":[\"q0\"],\"1\":[\"q4\"]},\n",
        "    \"q4\":{\"0\":[\"q3\"],\"1\":[\"q5\"]},\n",
        "    \"q5\":{\"0\":[\"q3\"],\"1\":[\"q2\"]}\n",
        "}"
      ]
    },
    {
      "cell_type": "code",
      "execution_count": 77,
      "metadata": {
        "id": "LlVKwNQ4Knjx"
      },
      "outputs": [],
      "source": [
        "def DFA_occurrences(input,dfa_graph):\n",
        "   # This function take the input from the user and go throw the graph to \n",
        "      #cuclue the number of occurrences of (11011) in this input\n",
        "\n",
        "    occurrences = 0\n",
        "    states = list(NFA_circuit.keys())\n",
        "\n",
        "    #Initial State\n",
        "    current_states = [states[0]]\n",
        "\n",
        "    #This for loop get elments one by one from the input\n",
        "    for symbol in input:\n",
        "\n",
        "        next_states = []\n",
        "        \n",
        "        #This loop go from this stat to the next\n",
        "        for state in current_states:\n",
        "       \n",
        "            if symbol == '0':\n",
        "                next_states.append(DFA_circuit[state][\"0\"])\n",
        "            elif symbol == '1':\n",
        "                next_states.append(DFA_circuit[state][\"1\"])\n",
        "\n",
        "        next_states = [item for sublist in next_states for item in sublist]\n",
        "\n",
        "        # copy the next states to make it the current states\n",
        "        current_states = next_states.copy()\n",
        "\n",
        "        # if we get the final state then we add 1 to occurrences\n",
        "        if \"q5\" in current_states:\n",
        "            occurrences += 1\n",
        "\n",
        "            # remove the final state from the current state\n",
        "            current_states=remove_items(current_states, 'q5')\n",
        "\n",
        "    return occurrences\n"
      ]
    },
    {
      "cell_type": "code",
      "execution_count": 78,
      "metadata": {
        "colab": {
          "base_uri": "https://localhost:8080/"
        },
        "id": "PFYNp9MgKnjz",
        "outputId": "96d93379-ca18-491f-834f-b03eaaa0221d"
      },
      "outputs": [
        {
          "output_type": "stream",
          "name": "stdout",
          "text": [
            "Test case_1 \n",
            "#Count =  1\n",
            "***********************\n",
            "Test case_1 \n",
            "#Count =  0\n",
            "***********************\n",
            "Test case_1  \n",
            "#Count =  1\n",
            "***********************\n",
            "Test case_1  \n",
            "#Count =  1\n",
            "***********************\n"
          ]
        }
      ],
      "source": [
        "print(\"Test case_1 \")\n",
        "print(\"#Count = \",DFA_occurrences('110111',DFA_circuit))\n",
        "print(\"***********************\")\n",
        "print(\"Test case_1 \")\n",
        "print(\"#Count = \",DFA_occurrences('11111',DFA_circuit))\n",
        "print(\"***********************\")\n",
        "print(\"Test case_1  \")\n",
        "print(\"#Count = \",DFA_occurrences('11011011011',DFA_circuit))\n",
        "print(\"***********************\")\n",
        "print(\"Test case_1  \")\n",
        "print(\"#Count = \",DFA_occurrences('1110111011',DFA_circuit))\n",
        "print(\"***********************\")\n"
      ]
    }
  ],
  "metadata": {
    "kernelspec": {
      "display_name": "Python 3",
      "language": "python",
      "name": "python3"
    },
    "language_info": {
      "codemirror_mode": {
        "name": "ipython",
        "version": 3
      },
      "file_extension": ".py",
      "mimetype": "text/x-python",
      "name": "python",
      "nbconvert_exporter": "python",
      "pygments_lexer": "ipython3",
      "version": "3.11.0"
    },
    "orig_nbformat": 4,
    "colab": {
      "provenance": []
    }
  },
  "nbformat": 4,
  "nbformat_minor": 0
}
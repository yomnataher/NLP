{
  "nbformat": 4,
  "nbformat_minor": 0,
  "metadata": {
    "colab": {
      "provenance": []
    },
    "kernelspec": {
      "name": "python3",
      "display_name": "Python 3"
    },
    "language_info": {
      "name": "python"
    }
  },
  "cells": [
    {
      "cell_type": "code",
      "source": [
        "NFA = {\n",
        "    ('q0', '0') : ['q0'],\n",
        "    ('q0', '1') : ['q0', 'q1'],\n",
        "    ('q1', '0') : ['q2'],\n",
        "    ('q1', '1') : ['q2'],\n",
        "    ('q2', '0') : ['q3'],\n",
        "    ('q2', '1') : ['q3'],\n",
        "    ('q3', '0') : ['q4'],\n",
        "    ('q3', '1') : ['q4'],\n",
        "    ('q4', '0') : [],\n",
        "    ('q4', '1') : []\n",
        "}\n",
        "\n",
        "start_state = 'q0'\n",
        "final_states = ['q4']"
      ],
      "metadata": {
        "id": "-JBmLUGTKmm6"
      },
      "execution_count": null,
      "outputs": []
    },
    {
      "cell_type": "code",
      "source": [
        "def NFA_To_DFA(NFA, start_state, final_states):\n",
        "    # Initialize the DFA\n",
        "    DFA = {}\n",
        "    DFA_start = frozenset([start_state])\n",
        "    DFA_accepts = []\n",
        "    \n",
        "    # Initialize the new states list with the start state\n",
        "    new_states = [DFA_start]\n",
        "    \n",
        "    # Iterate over the new states and generate the DFA transitions\n",
        "    for state in new_states:\n",
        "        # Iterate over the alphabet\n",
        "        for symbol in set([x[1] for x in NFA.keys()]):\n",
        "            # Calculate the epsilon closure of the current state\n",
        "            epsilon_closure = set(state)\n",
        "            stack = list(epsilon_closure)\n",
        "            while len(stack) > 0:\n",
        "                current_state = stack.pop()\n",
        "                try:\n",
        "                    epsilon_closure.update(NFA[(current_state, 'E')])\n",
        "                    for next_state in NFA[(current_state, 'E')]:\n",
        "                        if next_state not in epsilon_closure:\n",
        "                            stack.append(next_state)\n",
        "                except KeyError:\n",
        "                    pass\n",
        "            # Calculate the set of states reachable by the current symbol\n",
        "            reachable_states = set()\n",
        "            for current_state in epsilon_closure:\n",
        "                try:\n",
        "                    reachable_states.update(NFA[(current_state, symbol)])\n",
        "                except KeyError:\n",
        "                    pass\n",
        "            # If the reachable states set is not empty, add a new state to the DFA\n",
        "            if len(reachable_states) > 0:\n",
        "                # Calculate the new state\n",
        "                new_state = frozenset(reachable_states)\n",
        "                # Add the new state to the DFA\n",
        "                if new_state not in new_states:\n",
        "                    new_states.append(new_state)\n",
        "                # Add the transition to the DFA\n",
        "                DFA[(state, symbol)] = new_state\n",
        "    # Update the DFA accept states\n",
        "    DFA_accepts = [state for state in new_states if len(state.intersection(set(final_states))) > 0]\n",
        "    \n",
        "    # Return the DFA transitions, start state, and accept states\n",
        "    return DFA, DFA_start, DFA_accepts\n",
        "\n"
      ],
      "metadata": {
        "id": "2fo3rYlLKm6v"
      },
      "execution_count": null,
      "outputs": []
    },
    {
      "cell_type": "code",
      "source": [
        "dfa_transitions, dfa_start, dfa_accepts = NFA_To_DFA(NFA, start_state, final_states)\n",
        "\n",
        "print(\"DFA Transitions:\")\n",
        "for key, value in dfa_transitions.items():\n",
        "    print(key, \"->\", value)\n",
        "print(\"DFA Start State:\", dfa_start)\n",
        "print(\"DFA Accept States:\", dfa_accepts)"
      ],
      "metadata": {
        "colab": {
          "base_uri": "https://localhost:8080/"
        },
        "id": "r04pw9mTKqJH",
        "outputId": "d4619491-90fb-43f6-834f-694da31b6d78"
      },
      "execution_count": null,
      "outputs": [
        {
          "output_type": "stream",
          "name": "stdout",
          "text": [
            "DFA Transitions:\n",
            "(frozenset({'q0'}), '1') -> frozenset({'q0', 'q1'})\n",
            "(frozenset({'q0'}), '0') -> frozenset({'q0'})\n",
            "(frozenset({'q0', 'q1'}), '1') -> frozenset({'q0', 'q2', 'q1'})\n",
            "(frozenset({'q0', 'q1'}), '0') -> frozenset({'q0', 'q2'})\n",
            "(frozenset({'q0', 'q2', 'q1'}), '1') -> frozenset({'q0', 'q2', 'q3', 'q1'})\n",
            "(frozenset({'q0', 'q2', 'q1'}), '0') -> frozenset({'q0', 'q2', 'q3'})\n",
            "(frozenset({'q0', 'q2'}), '1') -> frozenset({'q0', 'q3', 'q1'})\n",
            "(frozenset({'q0', 'q2'}), '0') -> frozenset({'q0', 'q3'})\n",
            "(frozenset({'q0', 'q2', 'q3', 'q1'}), '1') -> frozenset({'q0', 'q4', 'q2', 'q3', 'q1'})\n",
            "(frozenset({'q0', 'q2', 'q3', 'q1'}), '0') -> frozenset({'q0', 'q4', 'q3', 'q2'})\n",
            "(frozenset({'q0', 'q2', 'q3'}), '1') -> frozenset({'q0', 'q4', 'q3', 'q1'})\n",
            "(frozenset({'q0', 'q2', 'q3'}), '0') -> frozenset({'q0', 'q4', 'q3'})\n",
            "(frozenset({'q0', 'q3', 'q1'}), '1') -> frozenset({'q0', 'q4', 'q2', 'q1'})\n",
            "(frozenset({'q0', 'q3', 'q1'}), '0') -> frozenset({'q0', 'q4', 'q2'})\n",
            "(frozenset({'q0', 'q3'}), '1') -> frozenset({'q0', 'q4', 'q1'})\n",
            "(frozenset({'q0', 'q3'}), '0') -> frozenset({'q0', 'q4'})\n",
            "(frozenset({'q0', 'q4', 'q2', 'q3', 'q1'}), '1') -> frozenset({'q0', 'q4', 'q2', 'q3', 'q1'})\n",
            "(frozenset({'q0', 'q4', 'q2', 'q3', 'q1'}), '0') -> frozenset({'q0', 'q4', 'q3', 'q2'})\n",
            "(frozenset({'q0', 'q4', 'q3', 'q2'}), '1') -> frozenset({'q0', 'q4', 'q3', 'q1'})\n",
            "(frozenset({'q0', 'q4', 'q3', 'q2'}), '0') -> frozenset({'q0', 'q4', 'q3'})\n",
            "(frozenset({'q0', 'q4', 'q3', 'q1'}), '1') -> frozenset({'q0', 'q4', 'q2', 'q1'})\n",
            "(frozenset({'q0', 'q4', 'q3', 'q1'}), '0') -> frozenset({'q0', 'q4', 'q2'})\n",
            "(frozenset({'q0', 'q4', 'q3'}), '1') -> frozenset({'q0', 'q4', 'q1'})\n",
            "(frozenset({'q0', 'q4', 'q3'}), '0') -> frozenset({'q0', 'q4'})\n",
            "(frozenset({'q0', 'q4', 'q2', 'q1'}), '1') -> frozenset({'q0', 'q2', 'q3', 'q1'})\n",
            "(frozenset({'q0', 'q4', 'q2', 'q1'}), '0') -> frozenset({'q0', 'q2', 'q3'})\n",
            "(frozenset({'q0', 'q4', 'q2'}), '1') -> frozenset({'q0', 'q3', 'q1'})\n",
            "(frozenset({'q0', 'q4', 'q2'}), '0') -> frozenset({'q0', 'q3'})\n",
            "(frozenset({'q0', 'q4', 'q1'}), '1') -> frozenset({'q0', 'q2', 'q1'})\n",
            "(frozenset({'q0', 'q4', 'q1'}), '0') -> frozenset({'q0', 'q2'})\n",
            "(frozenset({'q0', 'q4'}), '1') -> frozenset({'q0', 'q1'})\n",
            "(frozenset({'q0', 'q4'}), '0') -> frozenset({'q0'})\n",
            "DFA Start State: frozenset({'q0'})\n",
            "DFA Accept States: [frozenset({'q0', 'q4', 'q2', 'q3', 'q1'}), frozenset({'q0', 'q4', 'q3', 'q2'}), frozenset({'q0', 'q4', 'q3', 'q1'}), frozenset({'q0', 'q4', 'q3'}), frozenset({'q0', 'q4', 'q2', 'q1'}), frozenset({'q0', 'q4', 'q2'}), frozenset({'q0', 'q4', 'q1'}), frozenset({'q0', 'q4'})]\n"
          ]
        }
      ]
    },
    {
      "cell_type": "code",
      "source": [
        "import graphviz\n",
        "\n",
        "def draw_dfa(DFA, start_state, final_states):\n",
        "    dot = graphviz.Digraph()\n",
        "    for state,_ in DFA.keys():\n",
        "        if state in final_states:\n",
        "            dot.node(str(state), shape='doublecircle')\n",
        "        else:\n",
        "            dot.node(str(state), shape='circle')\n",
        "    dot.node(str(),shape='point')\n",
        "    dot.edge('', str(start_state))\n",
        "    for state_symbol, next_state in DFA.items():\n",
        "      dot.edge(str(state_symbol[0]), str(next_state), label=str(state_symbol[1]))\n",
        "    return dot\n",
        "\n",
        "dot = draw_dfa(dfa_transitions, dfa_start, dfa_accepts)\n",
        "dot"
      ],
      "metadata": {
        "colab": {
          "base_uri": "https://localhost:8080/",
          "height": 1000
        },
        "id": "X_A_fVOqMa-n",
        "outputId": "9f5c6be4-6365-468c-d775-6dc0a5eec828"
      },
      "execution_count": null,
      "outputs": [
        {
          "output_type": "execute_result",
          "data": {
            "image/svg+xml": "<?xml version=\"1.0\" encoding=\"UTF-8\" standalone=\"no\"?>\n<!DOCTYPE svg PUBLIC \"-//W3C//DTD SVG 1.1//EN\"\n \"http://www.w3.org/Graphics/SVG/1.1/DTD/svg11.dtd\">\n<!-- Generated by graphviz version 2.43.0 (0)\n -->\n<!-- Title: %3 Pages: 1 -->\n<svg width=\"748pt\" height=\"4159pt\"\n viewBox=\"0.00 0.00 747.57 4158.51\" xmlns=\"http://www.w3.org/2000/svg\" xmlns:xlink=\"http://www.w3.org/1999/xlink\">\n<g id=\"graph0\" class=\"graph\" transform=\"scale(1 1) rotate(0) translate(4 4154.51)\">\n<title>%3</title>\n<polygon fill=\"white\" stroke=\"transparent\" points=\"-4,4 -4,-4154.51 743.57,-4154.51 743.57,4 -4,4\"/>\n<!-- frozenset({&#39;q0&#39;}) -->\n<g id=\"node1\" class=\"node\">\n<title>frozenset({&#39;q0&#39;})</title>\n<ellipse fill=\"none\" stroke=\"black\" cx=\"518.78\" cy=\"-4040.37\" rx=\"69.59\" ry=\"69.59\"/>\n<text text-anchor=\"middle\" x=\"518.78\" y=\"-4036.67\" font-family=\"Times,serif\" font-size=\"14.00\">frozenset({&#39;q0&#39;})</text>\n</g>\n<!-- frozenset({&#39;q0&#39;})&#45;&gt;frozenset({&#39;q0&#39;}) -->\n<g id=\"edge3\" class=\"edge\">\n<title>frozenset({&#39;q0&#39;})&#45;&gt;frozenset({&#39;q0&#39;})</title>\n<path fill=\"none\" stroke=\"black\" d=\"M586.69,-4055.77C598.29,-4053.66 606.32,-4048.53 606.32,-4040.37 606.32,-4034.75 602.53,-4030.57 596.38,-4027.82\"/>\n<polygon fill=\"black\" stroke=\"black\" points=\"597.27,-4024.44 586.69,-4024.96 595.29,-4031.15 597.27,-4024.44\"/>\n<text text-anchor=\"middle\" x=\"609.82\" y=\"-4036.67\" font-family=\"Times,serif\" font-size=\"14.00\">0</text>\n</g>\n<!-- frozenset({&#39;q0&#39;, &#39;q1&#39;}) -->\n<g id=\"node2\" class=\"node\">\n<title>frozenset({&#39;q0&#39;, &#39;q1&#39;})</title>\n<ellipse fill=\"none\" stroke=\"black\" cx=\"433.78\" cy=\"-3834.03\" rx=\"85.59\" ry=\"85.59\"/>\n<text text-anchor=\"middle\" x=\"433.78\" y=\"-3830.33\" font-family=\"Times,serif\" font-size=\"14.00\">frozenset({&#39;q0&#39;, &#39;q1&#39;})</text>\n</g>\n<!-- frozenset({&#39;q0&#39;})&#45;&gt;frozenset({&#39;q0&#39;, &#39;q1&#39;}) -->\n<g id=\"edge2\" class=\"edge\">\n<title>frozenset({&#39;q0&#39;})&#45;&gt;frozenset({&#39;q0&#39;, &#39;q1&#39;})</title>\n<path fill=\"none\" stroke=\"black\" d=\"M492.35,-3975.83C485.38,-3959.07 477.73,-3940.68 470.33,-3922.89\"/>\n<polygon fill=\"black\" stroke=\"black\" points=\"473.56,-3921.54 466.48,-3913.65 467.09,-3924.22 473.56,-3921.54\"/>\n<text text-anchor=\"middle\" x=\"485.28\" y=\"-3941.62\" font-family=\"Times,serif\" font-size=\"14.00\">1</text>\n</g>\n<!-- frozenset({&#39;q0&#39;, &#39;q2&#39;, &#39;q1&#39;}) -->\n<g id=\"node3\" class=\"node\">\n<title>frozenset({&#39;q0&#39;, &#39;q2&#39;, &#39;q1&#39;})</title>\n<ellipse fill=\"none\" stroke=\"black\" cx=\"218.78\" cy=\"-3594.55\" rx=\"102.88\" ry=\"102.88\"/>\n<text text-anchor=\"middle\" x=\"218.78\" y=\"-3590.85\" font-family=\"Times,serif\" font-size=\"14.00\">frozenset({&#39;q0&#39;, &#39;q2&#39;, &#39;q1&#39;})</text>\n</g>\n<!-- frozenset({&#39;q0&#39;, &#39;q1&#39;})&#45;&gt;frozenset({&#39;q0&#39;, &#39;q2&#39;, &#39;q1&#39;}) -->\n<g id=\"edge4\" class=\"edge\">\n<title>frozenset({&#39;q0&#39;, &#39;q1&#39;})&#45;&gt;frozenset({&#39;q0&#39;, &#39;q2&#39;, &#39;q1&#39;})</title>\n<path fill=\"none\" stroke=\"black\" d=\"M376.45,-3769.7C351.22,-3741.83 321.24,-3708.72 294.23,-3678.88\"/>\n<polygon fill=\"black\" stroke=\"black\" points=\"296.74,-3676.44 287.43,-3671.37 291.55,-3681.14 296.74,-3676.44\"/>\n<text text-anchor=\"middle\" x=\"343.28\" y=\"-3719.04\" font-family=\"Times,serif\" font-size=\"14.00\">1</text>\n</g>\n<!-- frozenset({&#39;q0&#39;, &#39;q2&#39;}) -->\n<g id=\"node4\" class=\"node\">\n<title>frozenset({&#39;q0&#39;, &#39;q2&#39;})</title>\n<ellipse fill=\"none\" stroke=\"black\" cx=\"155.78\" cy=\"-1059.73\" rx=\"85.59\" ry=\"85.59\"/>\n<text text-anchor=\"middle\" x=\"155.78\" y=\"-1056.03\" font-family=\"Times,serif\" font-size=\"14.00\">frozenset({&#39;q0&#39;, &#39;q2&#39;})</text>\n</g>\n<!-- frozenset({&#39;q0&#39;, &#39;q1&#39;})&#45;&gt;frozenset({&#39;q0&#39;, &#39;q2&#39;}) -->\n<g id=\"edge5\" class=\"edge\">\n<title>frozenset({&#39;q0&#39;, &#39;q1&#39;})&#45;&gt;frozenset({&#39;q0&#39;, &#39;q2&#39;})</title>\n<path fill=\"none\" stroke=\"black\" d=\"M348.49,-3824.42C222.35,-3806.46 0.78,-3752.55 0.78,-3595.55 0.78,-3595.55 0.78,-3595.55 0.78,-1302.21 0.78,-1254.48 -2.34,-1238.81 19.78,-1196.52 34.71,-1167.97 57.73,-1141.64 80.6,-1119.92\"/>\n<polygon fill=\"black\" stroke=\"black\" points=\"83.07,-1122.4 88.02,-1113.03 78.31,-1117.28 83.07,-1122.4\"/>\n<text text-anchor=\"middle\" x=\"4.28\" y=\"-2397.78\" font-family=\"Times,serif\" font-size=\"14.00\">0</text>\n</g>\n<!-- frozenset({&#39;q0&#39;, &#39;q2&#39;, &#39;q3&#39;, &#39;q1&#39;}) -->\n<g id=\"node5\" class=\"node\">\n<title>frozenset({&#39;q0&#39;, &#39;q2&#39;, &#39;q3&#39;, &#39;q1&#39;})</title>\n<ellipse fill=\"none\" stroke=\"black\" cx=\"328.78\" cy=\"-3321.92\" rx=\"118.88\" ry=\"118.88\"/>\n<text text-anchor=\"middle\" x=\"328.78\" y=\"-3318.22\" font-family=\"Times,serif\" font-size=\"14.00\">frozenset({&#39;q0&#39;, &#39;q2&#39;, &#39;q3&#39;, &#39;q1&#39;})</text>\n</g>\n<!-- frozenset({&#39;q0&#39;, &#39;q2&#39;, &#39;q1&#39;})&#45;&gt;frozenset({&#39;q0&#39;, &#39;q2&#39;, &#39;q3&#39;, &#39;q1&#39;}) -->\n<g id=\"edge6\" class=\"edge\">\n<title>frozenset({&#39;q0&#39;, &#39;q2&#39;, &#39;q1&#39;})&#45;&gt;frozenset({&#39;q0&#39;, &#39;q2&#39;, &#39;q3&#39;, &#39;q1&#39;})</title>\n<path fill=\"none\" stroke=\"black\" d=\"M257.25,-3498.89C264.76,-3480.42 272.72,-3460.84 280.5,-3441.7\"/>\n<polygon fill=\"black\" stroke=\"black\" points=\"283.78,-3442.93 284.3,-3432.35 277.29,-3440.3 283.78,-3442.93\"/>\n<text text-anchor=\"middle\" x=\"274.28\" y=\"-3462.65\" font-family=\"Times,serif\" font-size=\"14.00\">1</text>\n</g>\n<!-- frozenset({&#39;q0&#39;, &#39;q2&#39;, &#39;q3&#39;}) -->\n<g id=\"node6\" class=\"node\">\n<title>frozenset({&#39;q0&#39;, &#39;q2&#39;, &#39;q3&#39;})</title>\n<ellipse fill=\"none\" stroke=\"black\" cx=\"396.78\" cy=\"-1827.97\" rx=\"102.88\" ry=\"102.88\"/>\n<text text-anchor=\"middle\" x=\"396.78\" y=\"-1824.27\" font-family=\"Times,serif\" font-size=\"14.00\">frozenset({&#39;q0&#39;, &#39;q2&#39;, &#39;q3&#39;})</text>\n</g>\n<!-- frozenset({&#39;q0&#39;, &#39;q2&#39;, &#39;q1&#39;})&#45;&gt;frozenset({&#39;q0&#39;, &#39;q2&#39;, &#39;q3&#39;}) -->\n<g id=\"edge7\" class=\"edge\">\n<title>frozenset({&#39;q0&#39;, &#39;q2&#39;, &#39;q1&#39;})&#45;&gt;frozenset({&#39;q0&#39;, &#39;q2&#39;, &#39;q3&#39;})</title>\n<path fill=\"none\" stroke=\"black\" d=\"M198.55,-3493.74C189.91,-3442.84 181.78,-3379.82 181.78,-3322.92 181.78,-3322.92 181.78,-3322.92 181.78,-2103.6 181.78,-2048.75 172.97,-2028.94 200.78,-1981.66 224.07,-1942.08 261.88,-1909.01 298.12,-1883.89\"/>\n<polygon fill=\"black\" stroke=\"black\" points=\"300.49,-1886.51 306.79,-1878 296.55,-1880.72 300.49,-1886.51\"/>\n<text text-anchor=\"middle\" x=\"185.28\" y=\"-2694.66\" font-family=\"Times,serif\" font-size=\"14.00\">0</text>\n</g>\n<!-- frozenset({&#39;q0&#39;, &#39;q3&#39;, &#39;q1&#39;}) -->\n<g id=\"node7\" class=\"node\">\n<title>frozenset({&#39;q0&#39;, &#39;q3&#39;, &#39;q1&#39;})</title>\n<ellipse fill=\"none\" stroke=\"black\" cx=\"278.78\" cy=\"-820.24\" rx=\"102.88\" ry=\"102.88\"/>\n<text text-anchor=\"middle\" x=\"278.78\" y=\"-816.54\" font-family=\"Times,serif\" font-size=\"14.00\">frozenset({&#39;q0&#39;, &#39;q3&#39;, &#39;q1&#39;})</text>\n</g>\n<!-- frozenset({&#39;q0&#39;, &#39;q2&#39;})&#45;&gt;frozenset({&#39;q0&#39;, &#39;q3&#39;, &#39;q1&#39;}) -->\n<g id=\"edge8\" class=\"edge\">\n<title>frozenset({&#39;q0&#39;, &#39;q2&#39;})&#45;&gt;frozenset({&#39;q0&#39;, &#39;q3&#39;, &#39;q1&#39;})</title>\n<path fill=\"none\" stroke=\"black\" d=\"M194.87,-983.26C205.15,-963.41 216.39,-941.7 227.22,-920.8\"/>\n<polygon fill=\"black\" stroke=\"black\" points=\"230.34,-922.39 231.83,-911.9 224.12,-919.17 230.34,-922.39\"/>\n<text text-anchor=\"middle\" x=\"217.28\" y=\"-944.73\" font-family=\"Times,serif\" font-size=\"14.00\">1</text>\n</g>\n<!-- frozenset({&#39;q0&#39;, &#39;q3&#39;}) -->\n<g id=\"node8\" class=\"node\">\n<title>frozenset({&#39;q0&#39;, &#39;q3&#39;})</title>\n<ellipse fill=\"none\" stroke=\"black\" cx=\"227.78\" cy=\"-316.38\" rx=\"85.59\" ry=\"85.59\"/>\n<text text-anchor=\"middle\" x=\"227.78\" y=\"-312.68\" font-family=\"Times,serif\" font-size=\"14.00\">frozenset({&#39;q0&#39;, &#39;q3&#39;})</text>\n</g>\n<!-- frozenset({&#39;q0&#39;, &#39;q2&#39;})&#45;&gt;frozenset({&#39;q0&#39;, &#39;q3&#39;}) -->\n<g id=\"edge9\" class=\"edge\">\n<title>frozenset({&#39;q0&#39;, &#39;q2&#39;})&#45;&gt;frozenset({&#39;q0&#39;, &#39;q3&#39;})</title>\n<path fill=\"none\" stroke=\"black\" d=\"M149.12,-973.9C141.9,-855.79 135.99,-635.73 173.78,-453.17 177.12,-437.02 182.25,-420.31 188.04,-404.38\"/>\n<polygon fill=\"black\" stroke=\"black\" points=\"191.49,-405.16 191.72,-394.57 184.93,-402.7 191.49,-405.16\"/>\n<text text-anchor=\"middle\" x=\"150.28\" y=\"-688.35\" font-family=\"Times,serif\" font-size=\"14.00\">0</text>\n</g>\n<!-- frozenset({&#39;q0&#39;, &#39;q4&#39;, &#39;q2&#39;, &#39;q3&#39;, &#39;q1&#39;}) -->\n<g id=\"node9\" class=\"node\">\n<title>frozenset({&#39;q0&#39;, &#39;q4&#39;, &#39;q2&#39;, &#39;q3&#39;, &#39;q1&#39;})</title>\n<ellipse fill=\"none\" stroke=\"black\" cx=\"493.78\" cy=\"-3012.14\" rx=\"135.68\" ry=\"135.68\"/>\n<ellipse fill=\"none\" stroke=\"black\" cx=\"493.78\" cy=\"-3012.14\" rx=\"139.68\" ry=\"139.68\"/>\n<text text-anchor=\"middle\" x=\"493.78\" y=\"-3008.44\" font-family=\"Times,serif\" font-size=\"14.00\">frozenset({&#39;q0&#39;, &#39;q4&#39;, &#39;q2&#39;, &#39;q3&#39;, &#39;q1&#39;})</text>\n</g>\n<!-- frozenset({&#39;q0&#39;, &#39;q2&#39;, &#39;q3&#39;, &#39;q1&#39;})&#45;&gt;frozenset({&#39;q0&#39;, &#39;q4&#39;, &#39;q2&#39;, &#39;q3&#39;, &#39;q1&#39;}) -->\n<g id=\"edge10\" class=\"edge\">\n<title>frozenset({&#39;q0&#39;, &#39;q2&#39;, &#39;q3&#39;, &#39;q1&#39;})&#45;&gt;frozenset({&#39;q0&#39;, &#39;q4&#39;, &#39;q2&#39;, &#39;q3&#39;, &#39;q1&#39;})</title>\n<path fill=\"none\" stroke=\"black\" d=\"M384.64,-3216.72C397.05,-3193.57 410.36,-3168.75 423.26,-3144.68\"/>\n<polygon fill=\"black\" stroke=\"black\" points=\"426.36,-3146.31 428,-3135.84 420.19,-3143 426.36,-3146.31\"/>\n<text text-anchor=\"middle\" x=\"410.28\" y=\"-3173.78\" font-family=\"Times,serif\" font-size=\"14.00\">1</text>\n</g>\n<!-- frozenset({&#39;q0&#39;, &#39;q4&#39;, &#39;q3&#39;, &#39;q2&#39;}) -->\n<g id=\"node10\" class=\"node\">\n<title>frozenset({&#39;q0&#39;, &#39;q4&#39;, &#39;q3&#39;, &#39;q2&#39;})</title>\n<ellipse fill=\"none\" stroke=\"black\" cx=\"456.78\" cy=\"-2698.36\" rx=\"118.88\" ry=\"118.88\"/>\n<ellipse fill=\"none\" stroke=\"black\" cx=\"456.78\" cy=\"-2698.36\" rx=\"122.88\" ry=\"122.88\"/>\n<text text-anchor=\"middle\" x=\"456.78\" y=\"-2694.66\" font-family=\"Times,serif\" font-size=\"14.00\">frozenset({&#39;q0&#39;, &#39;q4&#39;, &#39;q3&#39;, &#39;q2&#39;})</text>\n</g>\n<!-- frozenset({&#39;q0&#39;, &#39;q2&#39;, &#39;q3&#39;, &#39;q1&#39;})&#45;&gt;frozenset({&#39;q0&#39;, &#39;q4&#39;, &#39;q3&#39;, &#39;q2&#39;}) -->\n<g id=\"edge11\" class=\"edge\">\n<title>frozenset({&#39;q0&#39;, &#39;q2&#39;, &#39;q3&#39;, &#39;q1&#39;})&#45;&gt;frozenset({&#39;q0&#39;, &#39;q4&#39;, &#39;q3&#39;, &#39;q2&#39;})</title>\n<path fill=\"none\" stroke=\"black\" d=\"M313.04,-3203.58C304.91,-3111.26 302.94,-2980.57 337.78,-2872.3 345.7,-2847.69 358.37,-2823.44 372.55,-2801.24\"/>\n<polygon fill=\"black\" stroke=\"black\" points=\"375.5,-2803.12 378.05,-2792.83 369.64,-2799.29 375.5,-2803.12\"/>\n<text text-anchor=\"middle\" x=\"341.28\" y=\"-3008.44\" font-family=\"Times,serif\" font-size=\"14.00\">0</text>\n</g>\n<!-- frozenset({&#39;q0&#39;, &#39;q4&#39;, &#39;q3&#39;, &#39;q1&#39;}) -->\n<g id=\"node11\" class=\"node\">\n<title>frozenset({&#39;q0&#39;, &#39;q4&#39;, &#39;q3&#39;, &#39;q1&#39;})</title>\n<ellipse fill=\"none\" stroke=\"black\" cx=\"448.78\" cy=\"-2401.48\" rx=\"118.88\" ry=\"118.88\"/>\n<ellipse fill=\"none\" stroke=\"black\" cx=\"448.78\" cy=\"-2401.48\" rx=\"122.88\" ry=\"122.88\"/>\n<text text-anchor=\"middle\" x=\"448.78\" y=\"-2397.78\" font-family=\"Times,serif\" font-size=\"14.00\">frozenset({&#39;q0&#39;, &#39;q4&#39;, &#39;q3&#39;, &#39;q1&#39;})</text>\n</g>\n<!-- frozenset({&#39;q0&#39;, &#39;q2&#39;, &#39;q3&#39;})&#45;&gt;frozenset({&#39;q0&#39;, &#39;q4&#39;, &#39;q3&#39;, &#39;q1&#39;}) -->\n<g id=\"edge12\" class=\"edge\">\n<title>frozenset({&#39;q0&#39;, &#39;q2&#39;, &#39;q3&#39;})&#45;&gt;frozenset({&#39;q0&#39;, &#39;q4&#39;, &#39;q3&#39;, &#39;q1&#39;})</title>\n<path fill=\"none\" stroke=\"black\" d=\"M444.42,-1919.32C452.85,-1939.33 460.35,-1960.8 464.78,-1981.66 484.99,-2076.73 479.76,-2186.61 470.13,-2269.96\"/>\n<polygon fill=\"black\" stroke=\"black\" points=\"466.64,-2269.65 468.93,-2279.99 473.59,-2270.48 466.64,-2269.65\"/>\n<text text-anchor=\"middle\" x=\"482.28\" y=\"-2100.9\" font-family=\"Times,serif\" font-size=\"14.00\">1</text>\n</g>\n<!-- frozenset({&#39;q0&#39;, &#39;q4&#39;, &#39;q3&#39;}) -->\n<g id=\"node12\" class=\"node\">\n<title>frozenset({&#39;q0&#39;, &#39;q4&#39;, &#39;q3&#39;})</title>\n<ellipse fill=\"none\" stroke=\"black\" cx=\"551.78\" cy=\"-1567.59\" rx=\"102.87\" ry=\"102.87\"/>\n<ellipse fill=\"none\" stroke=\"black\" cx=\"551.78\" cy=\"-1567.59\" rx=\"106.88\" ry=\"106.88\"/>\n<text text-anchor=\"middle\" x=\"551.78\" y=\"-1563.89\" font-family=\"Times,serif\" font-size=\"14.00\">frozenset({&#39;q0&#39;, &#39;q4&#39;, &#39;q3&#39;})</text>\n</g>\n<!-- frozenset({&#39;q0&#39;, &#39;q2&#39;, &#39;q3&#39;})&#45;&gt;frozenset({&#39;q0&#39;, &#39;q4&#39;, &#39;q3&#39;}) -->\n<g id=\"edge13\" class=\"edge\">\n<title>frozenset({&#39;q0&#39;, &#39;q2&#39;, &#39;q3&#39;})&#45;&gt;frozenset({&#39;q0&#39;, &#39;q4&#39;, &#39;q3&#39;})</title>\n<path fill=\"none\" stroke=\"black\" d=\"M449.26,-1739.5C463.02,-1716.55 477.97,-1691.63 492.08,-1668.1\"/>\n<polygon fill=\"black\" stroke=\"black\" points=\"495.1,-1669.88 497.24,-1659.5 489.1,-1666.28 495.1,-1669.88\"/>\n<text text-anchor=\"middle\" x=\"478.28\" y=\"-1696.08\" font-family=\"Times,serif\" font-size=\"14.00\">0</text>\n</g>\n<!-- frozenset({&#39;q0&#39;, &#39;q4&#39;, &#39;q2&#39;, &#39;q1&#39;}) -->\n<g id=\"node13\" class=\"node\">\n<title>frozenset({&#39;q0&#39;, &#39;q4&#39;, &#39;q2&#39;, &#39;q1&#39;})</title>\n<ellipse fill=\"none\" stroke=\"black\" cx=\"332.78\" cy=\"-2104.6\" rx=\"118.88\" ry=\"118.88\"/>\n<ellipse fill=\"none\" stroke=\"black\" cx=\"332.78\" cy=\"-2104.6\" rx=\"122.88\" ry=\"122.88\"/>\n<text text-anchor=\"middle\" x=\"332.78\" y=\"-2100.9\" font-family=\"Times,serif\" font-size=\"14.00\">frozenset({&#39;q0&#39;, &#39;q4&#39;, &#39;q2&#39;, &#39;q1&#39;})</text>\n</g>\n<!-- frozenset({&#39;q0&#39;, &#39;q3&#39;, &#39;q1&#39;})&#45;&gt;frozenset({&#39;q0&#39;, &#39;q4&#39;, &#39;q2&#39;, &#39;q1&#39;}) -->\n<g id=\"edge14\" class=\"edge\">\n<title>frozenset({&#39;q0&#39;, &#39;q3&#39;, &#39;q1&#39;})&#45;&gt;frozenset({&#39;q0&#39;, &#39;q4&#39;, &#39;q2&#39;, &#39;q1&#39;})</title>\n<path fill=\"none\" stroke=\"black\" d=\"M270.4,-922.84C256.19,-1118.87 233.62,-1562.46 284.78,-1930.66 286.89,-1945.85 289.97,-1961.6 293.55,-1977.12\"/>\n<polygon fill=\"black\" stroke=\"black\" points=\"290.25,-1978.36 295.98,-1987.27 297.06,-1976.73 290.25,-1978.36\"/>\n<text text-anchor=\"middle\" x=\"257.28\" y=\"-1431.7\" font-family=\"Times,serif\" font-size=\"14.00\">1</text>\n</g>\n<!-- frozenset({&#39;q0&#39;, &#39;q4&#39;, &#39;q2&#39;}) -->\n<g id=\"node14\" class=\"node\">\n<title>frozenset({&#39;q0&#39;, &#39;q4&#39;, &#39;q2&#39;})</title>\n<ellipse fill=\"none\" stroke=\"black\" cx=\"289.78\" cy=\"-559.86\" rx=\"102.87\" ry=\"102.87\"/>\n<ellipse fill=\"none\" stroke=\"black\" cx=\"289.78\" cy=\"-559.86\" rx=\"106.88\" ry=\"106.88\"/>\n<text text-anchor=\"middle\" x=\"289.78\" y=\"-556.16\" font-family=\"Times,serif\" font-size=\"14.00\">frozenset({&#39;q0&#39;, &#39;q4&#39;, &#39;q2&#39;})</text>\n</g>\n<!-- frozenset({&#39;q0&#39;, &#39;q3&#39;, &#39;q1&#39;})&#45;&gt;frozenset({&#39;q0&#39;, &#39;q4&#39;, &#39;q2&#39;}) -->\n<g id=\"edge15\" class=\"edge\">\n<title>frozenset({&#39;q0&#39;, &#39;q3&#39;, &#39;q1&#39;})&#45;&gt;frozenset({&#39;q0&#39;, &#39;q4&#39;, &#39;q2&#39;})</title>\n<path fill=\"none\" stroke=\"black\" d=\"M283.11,-717.49C283.68,-704.21 284.26,-690.53 284.84,-677.04\"/>\n<polygon fill=\"black\" stroke=\"black\" points=\"288.34,-676.91 285.27,-666.77 281.35,-676.61 288.34,-676.91\"/>\n<text text-anchor=\"middle\" x=\"288.28\" y=\"-688.35\" font-family=\"Times,serif\" font-size=\"14.00\">0</text>\n</g>\n<!-- frozenset({&#39;q0&#39;, &#39;q4&#39;, &#39;q1&#39;}) -->\n<g id=\"node15\" class=\"node\">\n<title>frozenset({&#39;q0&#39;, &#39;q4&#39;, &#39;q1&#39;})</title>\n<ellipse fill=\"none\" stroke=\"black\" cx=\"135.78\" cy=\"-1303.21\" rx=\"102.87\" ry=\"102.87\"/>\n<ellipse fill=\"none\" stroke=\"black\" cx=\"135.78\" cy=\"-1303.21\" rx=\"106.88\" ry=\"106.88\"/>\n<text text-anchor=\"middle\" x=\"135.78\" y=\"-1299.51\" font-family=\"Times,serif\" font-size=\"14.00\">frozenset({&#39;q0&#39;, &#39;q4&#39;, &#39;q1&#39;})</text>\n</g>\n<!-- frozenset({&#39;q0&#39;, &#39;q3&#39;})&#45;&gt;frozenset({&#39;q0&#39;, &#39;q4&#39;, &#39;q1&#39;}) -->\n<g id=\"edge16\" class=\"edge\">\n<title>frozenset({&#39;q0&#39;, &#39;q3&#39;})&#45;&gt;frozenset({&#39;q0&#39;, &#39;q4&#39;, &#39;q1&#39;})</title>\n<path fill=\"none\" stroke=\"black\" d=\"M158.26,-366.69C105.43,-410.45 41.78,-479.61 41.78,-558.86 41.78,-1060.73 41.78,-1060.73 41.78,-1060.73 41.78,-1109.14 58.39,-1159.51 77.64,-1201.65\"/>\n<polygon fill=\"black\" stroke=\"black\" points=\"74.51,-1203.22 81.92,-1210.79 80.85,-1200.25 74.51,-1203.22\"/>\n<text text-anchor=\"middle\" x=\"45.28\" y=\"-816.54\" font-family=\"Times,serif\" font-size=\"14.00\">1</text>\n</g>\n<!-- frozenset({&#39;q0&#39;, &#39;q4&#39;}) -->\n<g id=\"node16\" class=\"node\">\n<title>frozenset({&#39;q0&#39;, &#39;q4&#39;})</title>\n<ellipse fill=\"none\" stroke=\"black\" cx=\"649.78\" cy=\"-89.79\" rx=\"85.59\" ry=\"85.59\"/>\n<ellipse fill=\"none\" stroke=\"black\" cx=\"649.78\" cy=\"-89.79\" rx=\"89.59\" ry=\"89.59\"/>\n<text text-anchor=\"middle\" x=\"649.78\" y=\"-86.09\" font-family=\"Times,serif\" font-size=\"14.00\">frozenset({&#39;q0&#39;, &#39;q4&#39;})</text>\n</g>\n<!-- frozenset({&#39;q0&#39;, &#39;q3&#39;})&#45;&gt;frozenset({&#39;q0&#39;, &#39;q4&#39;}) -->\n<g id=\"edge17\" class=\"edge\">\n<title>frozenset({&#39;q0&#39;, &#39;q3&#39;})&#45;&gt;frozenset({&#39;q0&#39;, &#39;q4&#39;})</title>\n<path fill=\"none\" stroke=\"black\" d=\"M303.23,-275.23C375.67,-236.67 485.09,-178.44 561.54,-137.75\"/>\n<polygon fill=\"black\" stroke=\"black\" points=\"563.51,-140.67 570.69,-132.88 560.22,-134.49 563.51,-140.67\"/>\n<text text-anchor=\"middle\" x=\"442.28\" y=\"-201.38\" font-family=\"Times,serif\" font-size=\"14.00\">0</text>\n</g>\n<!-- frozenset({&#39;q0&#39;, &#39;q4&#39;, &#39;q2&#39;, &#39;q3&#39;, &#39;q1&#39;})&#45;&gt;frozenset({&#39;q0&#39;, &#39;q4&#39;, &#39;q2&#39;, &#39;q3&#39;, &#39;q1&#39;}) -->\n<g id=\"edge18\" class=\"edge\">\n<title>frozenset({&#39;q0&#39;, &#39;q4&#39;, &#39;q2&#39;, &#39;q3&#39;, &#39;q1&#39;})&#45;&gt;frozenset({&#39;q0&#39;, &#39;q4&#39;, &#39;q2&#39;, &#39;q3&#39;, &#39;q1&#39;})</title>\n<path fill=\"none\" stroke=\"black\" d=\"M631.51,-3036.46C643.86,-3031.38 651.62,-3023.27 651.62,-3012.14 651.62,-3004.14 647.61,-2997.7 640.77,-2992.82\"/>\n<polygon fill=\"black\" stroke=\"black\" points=\"641.97,-2989.49 631.51,-2987.81 638.64,-2995.65 641.97,-2989.49\"/>\n<text text-anchor=\"middle\" x=\"655.12\" y=\"-3008.44\" font-family=\"Times,serif\" font-size=\"14.00\">1</text>\n</g>\n<!-- frozenset({&#39;q0&#39;, &#39;q4&#39;, &#39;q2&#39;, &#39;q3&#39;, &#39;q1&#39;})&#45;&gt;frozenset({&#39;q0&#39;, &#39;q4&#39;, &#39;q3&#39;, &#39;q2&#39;}) -->\n<g id=\"edge19\" class=\"edge\">\n<title>frozenset({&#39;q0&#39;, &#39;q4&#39;, &#39;q2&#39;, &#39;q3&#39;, &#39;q1&#39;})&#45;&gt;frozenset({&#39;q0&#39;, &#39;q4&#39;, &#39;q3&#39;, &#39;q2&#39;})</title>\n<path fill=\"none\" stroke=\"black\" d=\"M477.39,-2873.03C475.73,-2859 474.04,-2844.78 472.38,-2830.83\"/>\n<polygon fill=\"black\" stroke=\"black\" points=\"475.84,-2830.25 471.18,-2820.73 468.89,-2831.07 475.84,-2830.25\"/>\n<text text-anchor=\"middle\" x=\"478.28\" y=\"-2843.1\" font-family=\"Times,serif\" font-size=\"14.00\">0</text>\n</g>\n<!-- frozenset({&#39;q0&#39;, &#39;q4&#39;, &#39;q3&#39;, &#39;q2&#39;})&#45;&gt;frozenset({&#39;q0&#39;, &#39;q4&#39;, &#39;q3&#39;, &#39;q1&#39;}) -->\n<g id=\"edge20\" class=\"edge\">\n<title>frozenset({&#39;q0&#39;, &#39;q4&#39;, &#39;q3&#39;, &#39;q2&#39;})&#45;&gt;frozenset({&#39;q0&#39;, &#39;q4&#39;, &#39;q3&#39;, &#39;q1&#39;})</title>\n<path fill=\"none\" stroke=\"black\" d=\"M453.47,-2575.29C453.11,-2561.91 452.74,-2548.24 452.37,-2534.74\"/>\n<polygon fill=\"black\" stroke=\"black\" points=\"455.86,-2534.36 452.09,-2524.46 448.86,-2534.55 455.86,-2534.36\"/>\n<text text-anchor=\"middle\" x=\"456.28\" y=\"-2546.22\" font-family=\"Times,serif\" font-size=\"14.00\">1</text>\n</g>\n<!-- frozenset({&#39;q0&#39;, &#39;q4&#39;, &#39;q3&#39;, &#39;q2&#39;})&#45;&gt;frozenset({&#39;q0&#39;, &#39;q4&#39;, &#39;q3&#39;}) -->\n<g id=\"edge21\" class=\"edge\">\n<title>frozenset({&#39;q0&#39;, &#39;q4&#39;, &#39;q3&#39;, &#39;q2&#39;})&#45;&gt;frozenset({&#39;q0&#39;, &#39;q4&#39;, &#39;q3&#39;})</title>\n<path fill=\"none\" stroke=\"black\" d=\"M535.83,-2603.78C553.08,-2579.26 569.52,-2551.95 580.78,-2524.42 601.55,-2473.66 599.78,-2457.33 599.78,-2402.48 599.78,-2402.48 599.78,-2402.48 599.78,-1826.97 599.78,-1778.51 591.52,-1725.79 581.85,-1680.68\"/>\n<polygon fill=\"black\" stroke=\"black\" points=\"585.26,-1679.9 579.7,-1670.88 578.43,-1681.4 585.26,-1679.9\"/>\n<text text-anchor=\"middle\" x=\"603.28\" y=\"-2100.9\" font-family=\"Times,serif\" font-size=\"14.00\">0</text>\n</g>\n<!-- frozenset({&#39;q0&#39;, &#39;q4&#39;, &#39;q3&#39;, &#39;q1&#39;})&#45;&gt;frozenset({&#39;q0&#39;, &#39;q4&#39;, &#39;q2&#39;, &#39;q1&#39;}) -->\n<g id=\"edge22\" class=\"edge\">\n<title>frozenset({&#39;q0&#39;, &#39;q4&#39;, &#39;q3&#39;, &#39;q1&#39;})&#45;&gt;frozenset({&#39;q0&#39;, &#39;q4&#39;, &#39;q2&#39;, &#39;q1&#39;})</title>\n<path fill=\"none\" stroke=\"black\" d=\"M404.1,-2286.9C396.64,-2267.93 388.87,-2248.18 381.32,-2228.99\"/>\n<polygon fill=\"black\" stroke=\"black\" points=\"384.55,-2227.64 377.63,-2219.62 378.04,-2230.2 384.55,-2227.64\"/>\n<text text-anchor=\"middle\" x=\"394.28\" y=\"-2249.34\" font-family=\"Times,serif\" font-size=\"14.00\">1</text>\n</g>\n<!-- frozenset({&#39;q0&#39;, &#39;q4&#39;, &#39;q3&#39;, &#39;q1&#39;})&#45;&gt;frozenset({&#39;q0&#39;, &#39;q4&#39;, &#39;q2&#39;}) -->\n<g id=\"edge23\" class=\"edge\">\n<title>frozenset({&#39;q0&#39;, &#39;q4&#39;, &#39;q3&#39;, &#39;q1&#39;})&#45;&gt;frozenset({&#39;q0&#39;, &#39;q4&#39;, &#39;q2&#39;})</title>\n<path fill=\"none\" stroke=\"black\" d=\"M482.3,-2282.85C483.95,-2275.33 485.47,-2267.85 486.78,-2260.54 489.39,-2246.05 488.64,-2242.23 489.78,-2227.54 507.03,-2004.82 575.72,-1938.4 508.78,-1725.28 503.42,-1708.23 499.97,-1703.16 485.78,-1692.28 467.03,-1677.92 450.12,-1693.05 435.78,-1674.28 371.39,-1590.01 416.78,-1542.46 416.78,-1436.4 416.78,-1436.4 416.78,-1436.4 416.78,-819.24 416.78,-760.07 389.62,-700.37 360.42,-653.29\"/>\n<polygon fill=\"black\" stroke=\"black\" points=\"363.26,-651.22 354.96,-644.64 357.35,-654.97 363.26,-651.22\"/>\n<text text-anchor=\"middle\" x=\"420.28\" y=\"-1431.7\" font-family=\"Times,serif\" font-size=\"14.00\">0</text>\n</g>\n<!-- frozenset({&#39;q0&#39;, &#39;q4&#39;, &#39;q3&#39;})&#45;&gt;frozenset({&#39;q0&#39;, &#39;q4&#39;, &#39;q1&#39;}) -->\n<g id=\"edge24\" class=\"edge\">\n<title>frozenset({&#39;q0&#39;, &#39;q4&#39;, &#39;q3&#39;})&#45;&gt;frozenset({&#39;q0&#39;, &#39;q4&#39;, &#39;q1&#39;})</title>\n<path fill=\"none\" stroke=\"black\" d=\"M487.32,-1482.47C469.54,-1462.84 449.19,-1443.22 427.78,-1427.9 373.17,-1388.83 304.32,-1358.92 247.19,-1338.3\"/>\n<polygon fill=\"black\" stroke=\"black\" points=\"248.36,-1335 237.77,-1334.94 246.01,-1341.59 248.36,-1335\"/>\n<text text-anchor=\"middle\" x=\"447.28\" y=\"-1431.7\" font-family=\"Times,serif\" font-size=\"14.00\">1</text>\n</g>\n<!-- frozenset({&#39;q0&#39;, &#39;q4&#39;, &#39;q3&#39;})&#45;&gt;frozenset({&#39;q0&#39;, &#39;q4&#39;}) -->\n<g id=\"edge25\" class=\"edge\">\n<title>frozenset({&#39;q0&#39;, &#39;q4&#39;, &#39;q3&#39;})&#45;&gt;frozenset({&#39;q0&#39;, &#39;q4&#39;})</title>\n<path fill=\"none\" stroke=\"black\" d=\"M569.81,-1462.23C576.63,-1414.25 582.78,-1356.5 582.78,-1304.21 582.78,-1304.21 582.78,-1304.21 582.78,-315.38 582.78,-270.08 595.45,-221.71 609.77,-181.5\"/>\n<polygon fill=\"black\" stroke=\"black\" points=\"613.1,-182.59 613.24,-172 606.53,-180.19 613.1,-182.59\"/>\n<text text-anchor=\"middle\" x=\"586.28\" y=\"-816.54\" font-family=\"Times,serif\" font-size=\"14.00\">0</text>\n</g>\n<!-- frozenset({&#39;q0&#39;, &#39;q4&#39;, &#39;q2&#39;, &#39;q1&#39;})&#45;&gt;frozenset({&#39;q0&#39;, &#39;q2&#39;, &#39;q3&#39;, &#39;q1&#39;}) -->\n<g id=\"edge26\" class=\"edge\">\n<title>frozenset({&#39;q0&#39;, &#39;q4&#39;, &#39;q2&#39;, &#39;q1&#39;})&#45;&gt;frozenset({&#39;q0&#39;, &#39;q2&#39;, &#39;q3&#39;, &#39;q1&#39;})</title>\n<path fill=\"none\" stroke=\"black\" d=\"M303.33,-2224.27C292.48,-2277.76 282.78,-2341.94 282.78,-2400.48 282.78,-3013.14 282.78,-3013.14 282.78,-3013.14 282.78,-3073.66 291.59,-3140.15 301.5,-3195.8\"/>\n<polygon fill=\"black\" stroke=\"black\" points=\"298.06,-3196.48 303.29,-3205.7 304.95,-3195.23 298.06,-3196.48\"/>\n<text text-anchor=\"middle\" x=\"286.28\" y=\"-2694.66\" font-family=\"Times,serif\" font-size=\"14.00\">1</text>\n</g>\n<!-- frozenset({&#39;q0&#39;, &#39;q4&#39;, &#39;q2&#39;, &#39;q1&#39;})&#45;&gt;frozenset({&#39;q0&#39;, &#39;q2&#39;, &#39;q3&#39;}) -->\n<g id=\"edge27\" class=\"edge\">\n<title>frozenset({&#39;q0&#39;, &#39;q4&#39;, &#39;q2&#39;, &#39;q1&#39;})&#45;&gt;frozenset({&#39;q0&#39;, &#39;q2&#39;, &#39;q3&#39;})</title>\n<path fill=\"none\" stroke=\"black\" d=\"M360.48,-1984.74C364.08,-1969.28 367.76,-1953.51 371.32,-1938.22\"/>\n<polygon fill=\"black\" stroke=\"black\" points=\"374.79,-1938.78 373.65,-1928.24 367.97,-1937.19 374.79,-1938.78\"/>\n<text text-anchor=\"middle\" x=\"372.28\" y=\"-1952.46\" font-family=\"Times,serif\" font-size=\"14.00\">0</text>\n</g>\n<!-- frozenset({&#39;q0&#39;, &#39;q4&#39;, &#39;q2&#39;})&#45;&gt;frozenset({&#39;q0&#39;, &#39;q3&#39;, &#39;q1&#39;}) -->\n<g id=\"edge28\" class=\"edge\">\n<title>frozenset({&#39;q0&#39;, &#39;q4&#39;, &#39;q2&#39;})&#45;&gt;frozenset({&#39;q0&#39;, &#39;q3&#39;, &#39;q1&#39;})</title>\n<path fill=\"none\" stroke=\"black\" d=\"M275.27,-665.7C274.68,-672.07 274.18,-678.39 273.78,-684.55 273.35,-691.2 273.64,-692.89 273.78,-699.55 273.83,-702.1 273.89,-704.68 273.96,-707.27\"/>\n<polygon fill=\"black\" stroke=\"black\" points=\"270.46,-707.49 274.24,-717.39 277.46,-707.3 270.46,-707.49\"/>\n<text text-anchor=\"middle\" x=\"277.28\" y=\"-688.35\" font-family=\"Times,serif\" font-size=\"14.00\">1</text>\n</g>\n<!-- frozenset({&#39;q0&#39;, &#39;q4&#39;, &#39;q2&#39;})&#45;&gt;frozenset({&#39;q0&#39;, &#39;q3&#39;}) -->\n<g id=\"edge29\" class=\"edge\">\n<title>frozenset({&#39;q0&#39;, &#39;q4&#39;, &#39;q2&#39;})&#45;&gt;frozenset({&#39;q0&#39;, &#39;q3&#39;})</title>\n<path fill=\"none\" stroke=\"black\" d=\"M263.49,-456.45C259.51,-440.95 255.42,-425.04 251.5,-409.76\"/>\n<polygon fill=\"black\" stroke=\"black\" points=\"254.83,-408.65 248.95,-399.83 248.05,-410.39 254.83,-408.65\"/>\n<text text-anchor=\"middle\" x=\"261.28\" y=\"-423.97\" font-family=\"Times,serif\" font-size=\"14.00\">0</text>\n</g>\n<!-- frozenset({&#39;q0&#39;, &#39;q4&#39;, &#39;q1&#39;})&#45;&gt;frozenset({&#39;q0&#39;, &#39;q2&#39;, &#39;q1&#39;}) -->\n<g id=\"edge30\" class=\"edge\">\n<title>frozenset({&#39;q0&#39;, &#39;q4&#39;, &#39;q1&#39;})&#45;&gt;frozenset({&#39;q0&#39;, &#39;q2&#39;, &#39;q1&#39;})</title>\n<path fill=\"none\" stroke=\"black\" d=\"M135.78,-1410.17C135.78,-1457.96 135.78,-1515.12 135.78,-1566.59 135.78,-3322.92 135.78,-3322.92 135.78,-3322.92 135.78,-3380.4 153.11,-3441.84 171.93,-3491.64\"/>\n<polygon fill=\"black\" stroke=\"black\" points=\"168.72,-3493.04 175.58,-3501.11 175.25,-3490.52 168.72,-3493.04\"/>\n<text text-anchor=\"middle\" x=\"139.28\" y=\"-2397.78\" font-family=\"Times,serif\" font-size=\"14.00\">1</text>\n</g>\n<!-- frozenset({&#39;q0&#39;, &#39;q4&#39;, &#39;q1&#39;})&#45;&gt;frozenset({&#39;q0&#39;, &#39;q2&#39;}) -->\n<g id=\"edge31\" class=\"edge\">\n<title>frozenset({&#39;q0&#39;, &#39;q4&#39;, &#39;q1&#39;})&#45;&gt;frozenset({&#39;q0&#39;, &#39;q2&#39;})</title>\n<path fill=\"none\" stroke=\"black\" d=\"M144.52,-1196.64C145.66,-1182.99 146.81,-1169.07 147.92,-1155.61\"/>\n<polygon fill=\"black\" stroke=\"black\" points=\"151.43,-1155.66 148.77,-1145.41 144.45,-1155.09 151.43,-1155.66\"/>\n<text text-anchor=\"middle\" x=\"151.28\" y=\"-1167.32\" font-family=\"Times,serif\" font-size=\"14.00\">0</text>\n</g>\n<!-- frozenset({&#39;q0&#39;, &#39;q4&#39;})&#45;&gt;frozenset({&#39;q0&#39;}) -->\n<g id=\"edge33\" class=\"edge\">\n<title>frozenset({&#39;q0&#39;, &#39;q4&#39;})&#45;&gt;frozenset({&#39;q0&#39;})</title>\n<path fill=\"none\" stroke=\"black\" d=\"M690.14,-170.27C707.89,-212.31 724.78,-265.43 724.78,-315.38 724.78,-3835.03 724.78,-3835.03 724.78,-3835.03 724.78,-3912.77 649.92,-3971.04 590.45,-4005.06\"/>\n<polygon fill=\"black\" stroke=\"black\" points=\"588.45,-4002.17 581.43,-4010.11 591.86,-4008.28 588.45,-4002.17\"/>\n<text text-anchor=\"middle\" x=\"728.28\" y=\"-1952.46\" font-family=\"Times,serif\" font-size=\"14.00\">0</text>\n</g>\n<!-- frozenset({&#39;q0&#39;, &#39;q4&#39;})&#45;&gt;frozenset({&#39;q0&#39;, &#39;q1&#39;}) -->\n<g id=\"edge32\" class=\"edge\">\n<title>frozenset({&#39;q0&#39;, &#39;q4&#39;})&#45;&gt;frozenset({&#39;q0&#39;, &#39;q1&#39;})</title>\n<path fill=\"none\" stroke=\"black\" d=\"M670.77,-177.17C679.12,-218.69 686.78,-269.34 686.78,-315.38 686.78,-3595.55 686.78,-3595.55 686.78,-3595.55 686.78,-3688.56 594.75,-3755.76 521.71,-3794.45\"/>\n<polygon fill=\"black\" stroke=\"black\" points=\"519.71,-3791.55 512.45,-3799.26 522.93,-3797.76 519.71,-3791.55\"/>\n<text text-anchor=\"middle\" x=\"690.28\" y=\"-1824.27\" font-family=\"Times,serif\" font-size=\"14.00\">1</text>\n</g>\n<g id=\"node17\" class=\"node\">\n<title></title>\n<ellipse fill=\"black\" stroke=\"black\" cx=\"518.78\" cy=\"-4148.71\" rx=\"1.8\" ry=\"1.8\"/>\n</g>\n<!-- &#45;&gt;frozenset({&#39;q0&#39;}) -->\n<g id=\"edge1\" class=\"edge\">\n<title>&#45;&gt;frozenset({&#39;q0&#39;})</title>\n<path fill=\"none\" stroke=\"black\" d=\"M518.78,-4146.51C518.78,-4143.15 518.78,-4133.01 518.78,-4120.27\"/>\n<polygon fill=\"black\" stroke=\"black\" points=\"522.28,-4120.09 518.78,-4110.09 515.28,-4120.09 522.28,-4120.09\"/>\n</g>\n</g>\n</svg>\n",
            "text/plain": [
              "<graphviz.graphs.Digraph at 0x7f4afb6e3640>"
            ]
          },
          "metadata": {},
          "execution_count": 41
        }
      ]
    },
    {
      "cell_type": "code",
      "source": [
        "def generate_string_dfa(dfa, start_state, final_states):\n",
        "    stack = [(start_state, \"0\")]\n",
        "    visited = set()\n",
        "    states = set()\n",
        "    for state,_ in dfa.keys():\n",
        "      states.add(state)\n",
        "    while stack:\n",
        "        state, string = stack.pop()\n",
        "        if state in visited:\n",
        "            continue\n",
        "        visited.add(state)\n",
        "        if state in final_states and visited == states:\n",
        "            return string\n",
        "        for symbol in ['0', '1']:\n",
        "            next_state = dfa[(state,symbol)]\n",
        "            stack.append((next_state, string + symbol))\n",
        "    return None\n",
        "\n",
        "string = generate_string_dfa(dfa_transitions, dfa_start, dfa_accepts)\n",
        "print(string)"
      ],
      "metadata": {
        "colab": {
          "base_uri": "https://localhost:8080/"
        },
        "id": "0PPfj8ajMoJO",
        "outputId": "e0e9ada7-6bd2-47a8-a80a-32baddad2c3a"
      },
      "execution_count": null,
      "outputs": [
        {
          "output_type": "stream",
          "name": "stdout",
          "text": [
            "0111101100101000\n"
          ]
        }
      ]
    }
  ]
}